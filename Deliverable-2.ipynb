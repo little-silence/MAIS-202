{
  "nbformat": 4,
  "nbformat_minor": 0,
  "metadata": {
    "colab": {
      "name": "del2.ipynb",
      "provenance": [],
      "authorship_tag": "ABX9TyPS+RY1tejlFruOmyRWMTPS",
      "include_colab_link": true
    },
    "kernelspec": {
      "name": "python3",
      "display_name": "Python 3"
    }
  },
  "cells": [
    {
      "cell_type": "markdown",
      "metadata": {
        "id": "view-in-github",
        "colab_type": "text"
      },
      "source": [
        "<a href=\"https://colab.research.google.com/github/little-silence/MAIS-202/blob/master/Deliverable-2.ipynb\" target=\"_parent\"><img src=\"https://colab.research.google.com/assets/colab-badge.svg\" alt=\"Open In Colab\"/></a>"
      ]
    },
    {
      "cell_type": "markdown",
      "metadata": {
        "id": "uZr0P5htDrGP",
        "colab_type": "text"
      },
      "source": [
        "\n",
        "**Deliverable 2**\n",
        "\n",
        "\n",
        "\n",
        "1. Problem statement:\n",
        "\n",
        "  The goal of this project is to associate a doodle with the english word equivalent of what it represents.\n",
        "\n",
        "2. Data Preprocessing:\n",
        "\n",
        "  I will be using the categories.txt file provided by the Google Creative Lab GitHub to get the objects for which we have the data.\n",
        "https://raw.githubusercontent.com/googlecreativelab/quickdraw-dataset/master/categories.txt\n",
        "\n",
        "  In the same repository, they have also provided the datasets in four different format. I will be working with the Numpy Bitmaps provided.\n",
        "\n",
        "  https://console.cloud.google.com/storage/browser/quickdraw_dataset/full/numpy_bitmap\n",
        "\n",
        "  This preprocessed data provides a centered drawing(final result), rescaled to a 28x28 image represented in by a matrix of grayscale values of the same size. In otherwords, it allows us to skip the data cleaning step.\n",
        "\n",
        "3. Machine learning model:\n",
        "\n",
        "  In the first deliverable, I have proposed a decision tree paired with stroke recognition. As my TPM pointed out, a neural network is more suitable for this scenario.\n",
        "\n",
        "  The model I have chosen to implement is the Convolutional Neural Network. It capture what I have been wanting to achieve: recognizing the different features in a doodle to guess the object drawn with the help of filters. I have been following code from the following address to write the model I will be using\n",
        "\n",
        "  https://github.com/zaidalyafeai/zaidalyafeai.github.io/blob/master/sketcher/Sketcher.ipynb\n",
        "\n",
        "  Since the Google dataset contains so muh data, I have decided to only run my test on only 20 object categ ories, and 6000 datapoints from each to allow for faster training. For the final version, it will be best to train on a larger dataset. I opted for a 60:40 split for train+valid and test due to the number of datapoints available, and 80:20 split within the train and validation set. The number of convolutional layers, as well as the output dimensions, and the filter sizes, and hyperparameters have been taken from the tutorial. To optimize, the loss function proposed is the Adam Optimizer. It is a stochastic function, which performs well with non static data and noise. This seems like an appropriate choice with the amount of noise in the dataset. \n",
        "\n",
        "  The model at this point seems a little overfit. Although The concept of this model has been understood, I still need to understand the specifics, such as the number of layers, size of filters, optimization function, and many other hyperparameter."
      ]
    },
    {
      "cell_type": "code",
      "metadata": {
        "id": "DeJFlGr8ojOV",
        "colab_type": "code",
        "outputId": "8a105f28-d5a9-4e77-b203-4d14b22e6b4a",
        "colab": {
          "base_uri": "https://localhost:8080/",
          "height": 208
        }
      },
      "source": [
        "# import the google drawing categories\n",
        "!wget 'https://raw.githubusercontent.com/googlecreativelab/quickdraw-dataset/master/categories.txt'\n"
      ],
      "execution_count": 1,
      "outputs": [
        {
          "output_type": "stream",
          "text": [
            "--2020-02-16 17:52:11--  https://raw.githubusercontent.com/googlecreativelab/quickdraw-dataset/master/categories.txt\n",
            "Resolving raw.githubusercontent.com (raw.githubusercontent.com)... 151.101.0.133, 151.101.64.133, 151.101.128.133, ...\n",
            "Connecting to raw.githubusercontent.com (raw.githubusercontent.com)|151.101.0.133|:443... connected.\n",
            "HTTP request sent, awaiting response... 200 OK\n",
            "Length: 2791 (2.7K) [text/plain]\n",
            "Saving to: ‘categories.txt’\n",
            "\n",
            "\rcategories.txt        0%[                    ]       0  --.-KB/s               \rcategories.txt      100%[===================>]   2.73K  --.-KB/s    in 0s      \n",
            "\n",
            "2020-02-16 17:52:11 (80.0 MB/s) - ‘categories.txt’ saved [2791/2791]\n",
            "\n"
          ],
          "name": "stdout"
        }
      ]
    },
    {
      "cell_type": "code",
      "metadata": {
        "id": "DSdy1kSphgEN",
        "colab_type": "code",
        "colab": {}
      },
      "source": [
        "f = open(\"categories.txt\",\"r\")\n",
        "# And for reading use\n",
        "categories = f.readlines()\n",
        "f.close()"
      ],
      "execution_count": 0,
      "outputs": []
    },
    {
      "cell_type": "code",
      "metadata": {
        "id": "rYqjRb1Chg4_",
        "colab_type": "code",
        "colab": {
          "base_uri": "https://localhost:8080/",
          "height": 55
        },
        "outputId": "ba1c7ae3-05ae-4859-fa86-c30432d286b0"
      },
      "source": [
        "category = [c.replace('\\n','').replace(' ','_') for c in categories]\n",
        "# There is too much data, so for now, I will only be analysing the 20 first categories\n",
        "short_length = 20\n",
        "short = category[:short_length]\n",
        "print(short)\n"
      ],
      "execution_count": 3,
      "outputs": [
        {
          "output_type": "stream",
          "text": [
            "['aircraft_carrier', 'airplane', 'alarm_clock', 'ambulance', 'angel', 'animal_migration', 'ant', 'anvil', 'apple', 'arm', 'asparagus', 'axe', 'backpack', 'banana', 'bandage', 'barn', 'baseball', 'baseball_bat', 'basket', 'basketball']\n"
          ],
          "name": "stdout"
        }
      ]
    },
    {
      "cell_type": "code",
      "metadata": {
        "id": "RCilOQeXhhNu",
        "colab_type": "code",
        "colab": {}
      },
      "source": [
        "!mkdir data"
      ],
      "execution_count": 0,
      "outputs": []
    },
    {
      "cell_type": "code",
      "metadata": {
        "id": "K4votpJ9qcgi",
        "colab_type": "code",
        "colab": {}
      },
      "source": [
        "import urllib.request\n",
        "\n",
        "#Get the data from Google Quickdraw\n",
        "def download():\n",
        "  \n",
        "  base = 'https://storage.googleapis.com/quickdraw_dataset/full/numpy_bitmap/'\n",
        "  for element in short:\n",
        "    end_url = element.replace('_', '%20')\n",
        "    path = base+end_url+'.npy'\n",
        "    print(path)\n",
        "    urllib.request.urlretrieve(path, 'data/'+element+'.npy')"
      ],
      "execution_count": 0,
      "outputs": []
    },
    {
      "cell_type": "code",
      "metadata": {
        "id": "kuYtumHlqgAB",
        "colab_type": "code",
        "outputId": "4623f617-2da8-475e-af28-f567698b230c",
        "colab": {
          "base_uri": "https://localhost:8080/",
          "height": 364
        }
      },
      "source": [
        "download()"
      ],
      "execution_count": 6,
      "outputs": [
        {
          "output_type": "stream",
          "text": [
            "https://storage.googleapis.com/quickdraw_dataset/full/numpy_bitmap/aircraft%20carrier.npy\n",
            "https://storage.googleapis.com/quickdraw_dataset/full/numpy_bitmap/airplane.npy\n",
            "https://storage.googleapis.com/quickdraw_dataset/full/numpy_bitmap/alarm%20clock.npy\n",
            "https://storage.googleapis.com/quickdraw_dataset/full/numpy_bitmap/ambulance.npy\n",
            "https://storage.googleapis.com/quickdraw_dataset/full/numpy_bitmap/angel.npy\n",
            "https://storage.googleapis.com/quickdraw_dataset/full/numpy_bitmap/animal%20migration.npy\n",
            "https://storage.googleapis.com/quickdraw_dataset/full/numpy_bitmap/ant.npy\n",
            "https://storage.googleapis.com/quickdraw_dataset/full/numpy_bitmap/anvil.npy\n",
            "https://storage.googleapis.com/quickdraw_dataset/full/numpy_bitmap/apple.npy\n",
            "https://storage.googleapis.com/quickdraw_dataset/full/numpy_bitmap/arm.npy\n",
            "https://storage.googleapis.com/quickdraw_dataset/full/numpy_bitmap/asparagus.npy\n",
            "https://storage.googleapis.com/quickdraw_dataset/full/numpy_bitmap/axe.npy\n",
            "https://storage.googleapis.com/quickdraw_dataset/full/numpy_bitmap/backpack.npy\n",
            "https://storage.googleapis.com/quickdraw_dataset/full/numpy_bitmap/banana.npy\n",
            "https://storage.googleapis.com/quickdraw_dataset/full/numpy_bitmap/bandage.npy\n",
            "https://storage.googleapis.com/quickdraw_dataset/full/numpy_bitmap/barn.npy\n",
            "https://storage.googleapis.com/quickdraw_dataset/full/numpy_bitmap/baseball.npy\n",
            "https://storage.googleapis.com/quickdraw_dataset/full/numpy_bitmap/baseball%20bat.npy\n",
            "https://storage.googleapis.com/quickdraw_dataset/full/numpy_bitmap/basket.npy\n",
            "https://storage.googleapis.com/quickdraw_dataset/full/numpy_bitmap/basketball.npy\n"
          ],
          "name": "stdout"
        }
      ]
    },
    {
      "cell_type": "code",
      "metadata": {
        "id": "nmh5Sva5xfK9",
        "colab_type": "code",
        "colab": {
          "base_uri": "https://localhost:8080/",
          "height": 64
        },
        "outputId": "027c81fb-5e2e-4c38-b502-113298255566"
      },
      "source": [
        "import os\n",
        "import glob\n",
        "import numpy as np\n",
        "from tensorflow.keras import layers\n",
        "from tensorflow import keras \n",
        "import tensorflow as tf"
      ],
      "execution_count": 7,
      "outputs": [
        {
          "output_type": "display_data",
          "data": {
            "text/html": [
              "<p style=\"color: red;\">\n",
              "The default version of TensorFlow in Colab will soon switch to TensorFlow 2.x.<br>\n",
              "We recommend you <a href=\"https://www.tensorflow.org/guide/migrate\" target=\"_blank\">upgrade</a> now \n",
              "or ensure your notebook will continue to use TensorFlow 1.x via the <code>%tensorflow_version 1.x</code> magic:\n",
              "<a href=\"https://colab.research.google.com/notebooks/tensorflow_version.ipynb\" target=\"_blank\">more info</a>.</p>\n"
            ],
            "text/plain": [
              "<IPython.core.display.HTML object>"
            ]
          },
          "metadata": {
            "tags": []
          }
        }
      ]
    },
    {
      "cell_type": "code",
      "metadata": {
        "id": "eIXkCWmzxoKs",
        "colab_type": "code",
        "colab": {}
      },
      "source": [
        "\n",
        "def load_data(root, vfold_ratio=0.2, max_items_per_class= 50000 ):\n",
        "    # get names of all .npy files in str wrapper\n",
        "    all_files = glob.glob(os.path.join(root, '*.npy'))\n",
        "    #find the features of this dataset\n",
        "    temp = np.load(all_files[0], allow_pickle=True)\n",
        "    dim = len(temp[0])\n",
        "    \n",
        "\n",
        "    #initialize variables\n",
        "    x = np.empty([0,dim])\n",
        "    y = np.empty([0])\n",
        "    class_names = []\n",
        "\n",
        "    #load a subset of the data to memory \n",
        "    for idx, file in enumerate(all_files):\n",
        "        data = np.load(file)\n",
        "        try:\n",
        "          # take the specified number of data\n",
        "          data = data[: max_items_per_class]\n",
        "        except:\n",
        "          # when number specified is larger\n",
        "          pass\n",
        "        labels = np.full(data.shape[0], idx)\n",
        "\n",
        "        # append to variable\n",
        "        x = np.concatenate((x, data), axis=0)\n",
        "        y = np.append(y, labels)\n",
        "\n",
        "        class_name = (file.replace(\".npy\",'')).replace(\"data/\",'')\n",
        "        class_names.append(class_name)\n",
        "\n",
        "    data = None\n",
        "    labels = None\n",
        "\n",
        "    #shuffle & separate into training and testing \n",
        "    permutation = np.random.permutation(y.shape[0])\n",
        "    x = x[permutation]\n",
        "    y = y[permutation]\n",
        "\n",
        "    vfold_size = int(len(x)*vfold_ratio)\n",
        "\n",
        "    x_test = x[0:vfold_size]\n",
        "    y_test = y[0:vfold_size]\n",
        "\n",
        "    x_train = x[vfold_size:x.shape[0]]\n",
        "    y_train = y[vfold_size:y.shape[0]]\n",
        "    return x_train, y_train, x_test, y_test, class_names"
      ],
      "execution_count": 0,
      "outputs": []
    },
    {
      "cell_type": "code",
      "metadata": {
        "id": "MMsLaX2HzWW3",
        "colab_type": "code",
        "colab": {}
      },
      "source": [
        "import math\n",
        "\n",
        "x_train, y_train, x_test, y_test, class_names = load_data('data',0.4,6000)\n",
        "num_classes = len(class_names)\n",
        "image_size = int(math.sqrt(len(x_train[0])))"
      ],
      "execution_count": 0,
      "outputs": []
    },
    {
      "cell_type": "code",
      "metadata": {
        "id": "rwyKKiYPBsU7",
        "colab_type": "code",
        "outputId": "9bd25aba-eb63-49d3-d17f-9d595478bd5d",
        "colab": {
          "base_uri": "https://localhost:8080/",
          "height": 283
        }
      },
      "source": [
        "import matplotlib.pyplot as plt\n",
        "from random import randint\n",
        "%matplotlib inline  \n",
        "idx = randint(0, len(x_train))\n",
        "plt.imshow(x_train[idx].reshape(28,28)) \n",
        "print(class_names[int(y_train[idx].item())])"
      ],
      "execution_count": 10,
      "outputs": [
        {
          "output_type": "stream",
          "text": [
            "asparagus\n"
          ],
          "name": "stdout"
        },
        {
          "output_type": "display_data",
          "data": {
            "image/png": "[encoded data removed]",
            "text/plain": [
              "<Figure size 432x288 with 1 Axes>"
            ]
          },
          "metadata": {
            "tags": []
          }
        }
      ]
    },
    {
      "cell_type": "code",
      "metadata": {
        "id": "q8YYX_CmB8xV",
        "colab_type": "code",
        "colab": {}
      },
      "source": [
        "# Reshape and normalize\n",
        "x_train = x_train.reshape(x_train.shape[0], image_size, image_size, 1).astype('float32')\n",
        "x_test = x_test.reshape(x_test.shape[0], image_size, image_size, 1).astype('float32')\n",
        "\n",
        "# pixel value is within range [0,255] we want the value to be less than 1\n",
        "x_train /= 255.0\n",
        "x_test /= 255.0\n",
        "\n",
        "# Convert class vectors to class matrices\n",
        "# so we can do categorical cross entropy(used when one answer out of all categories is right)\n",
        "y_train = keras.utils.to_categorical(y_train, num_classes)\n",
        "y_test = keras.utils.to_categorical(y_test, num_classes)"
      ],
      "execution_count": 0,
      "outputs": []
    },
    {
      "cell_type": "markdown",
      "metadata": {
        "id": "pLj65uBc_DCh",
        "colab_type": "text"
      },
      "source": [
        "I still dont understand why the pooling layer parameter, I will have to look into it soon."
      ]
    },
    {
      "cell_type": "code",
      "metadata": {
        "id": "Vbu9JBq1CMe_",
        "colab_type": "code",
        "outputId": "4d36ebe1-4d12-4863-cfe2-764f05ffdb0f",
        "colab": {
          "base_uri": "https://localhost:8080/",
          "height": 557
        }
      },
      "source": [
        "#Construct Model\n",
        "model = keras.Sequential()\n",
        "# first conv layer outputs 16 features with 3 by 3 filter\n",
        "model.add(layers.Convolution2D(16, (3, 3),\n",
        "                        padding='same',\n",
        "                        input_shape=x_train.shape[1:], activation='relu'))\n",
        "# pooling layer summarizes what the conv layer finds\n",
        "model.add(layers.MaxPooling2D(pool_size=(2, 2)))\n",
        "model.add(layers.Convolution2D(32, (3, 3), padding='same', activation= 'relu'))\n",
        "model.add(layers.MaxPooling2D(pool_size=(2, 2)))\n",
        "model.add(layers.Convolution2D(64, (3, 3), padding='same', activation= 'relu'))\n",
        "model.add(layers.MaxPooling2D(pool_size =(2,2)))\n",
        "model.add(layers.Flatten())\n",
        "model.add(layers.Dense(128, activation='relu'))\n",
        "# conclude with softmax to find node with highest value\n",
        "model.add(layers.Dense(short_length, activation='softmax')) \n",
        "# Train model\n",
        "# adam is a stochastic function, good for changing result and good with noisy data\n",
        "adam = tf.train.AdamOptimizer()\n",
        "model.compile(loss='categorical_crossentropy',\n",
        "              optimizer=adam,\n",
        "              metrics=['top_k_categorical_accuracy'])\n",
        "print(model.summary())"
      ],
      "execution_count": 12,
      "outputs": [
        {
          "output_type": "stream",
          "text": [
            "WARNING:tensorflow:From /usr/local/lib/python3.6/dist-packages/tensorflow_core/python/ops/resource_variable_ops.py:1630: calling BaseResourceVariable.__init__ (from tensorflow.python.ops.resource_variable_ops) with constraint is deprecated and will be removed in a future version.\n",
            "Instructions for updating:\n",
            "If using Keras pass *_constraint arguments to layers.\n",
            "Model: \"sequential\"\n",
            "_________________________________________________________________\n",
            "Layer (type)                 Output Shape              Param #   \n",
            "=================================================================\n",
            "conv2d (Conv2D)              (None, 28, 28, 16)        160       \n",
            "_________________________________________________________________\n",
            "max_pooling2d (MaxPooling2D) (None, 14, 14, 16)        0         \n",
            "_________________________________________________________________\n",
            "conv2d_1 (Conv2D)            (None, 14, 14, 32)        4640      \n",
            "_________________________________________________________________\n",
            "max_pooling2d_1 (MaxPooling2 (None, 7, 7, 32)          0         \n",
            "_________________________________________________________________\n",
            "conv2d_2 (Conv2D)            (None, 7, 7, 64)          18496     \n",
            "_________________________________________________________________\n",
            "max_pooling2d_2 (MaxPooling2 (None, 3, 3, 64)          0         \n",
            "_________________________________________________________________\n",
            "flatten (Flatten)            (None, 576)               0         \n",
            "_________________________________________________________________\n",
            "dense (Dense)                (None, 128)               73856     \n",
            "_________________________________________________________________\n",
            "dense_1 (Dense)              (None, 20)                2580      \n",
            "=================================================================\n",
            "Total params: 99,732\n",
            "Trainable params: 99,732\n",
            "Non-trainable params: 0\n",
            "_________________________________________________________________\n",
            "None\n"
          ],
          "name": "stdout"
        }
      ]
    },
    {
      "cell_type": "code",
      "metadata": {
        "id": "Sj9yudtWCWmu",
        "colab_type": "code",
        "outputId": "020ac5eb-a206-4867-d1f5-6350854e1a01",
        "colab": {
          "base_uri": "https://localhost:8080/",
          "height": 243
        }
      },
      "source": [
        "model.fit(x = x_train, y = y_train, validation_split=0.2, batch_size = 256, verbose=2, epochs=5)\n",
        "\n",
        "#evaluate on test data\n",
        "score = model.evaluate(x_test, y_test)\n",
        "print('Test accuracy: {:0.2f}%'.format(score[1] * 100))"
      ],
      "execution_count": 13,
      "outputs": [
        {
          "output_type": "stream",
          "text": [
            "Train on 57600 samples, validate on 14400 samples\n",
            "Epoch 1/5\n",
            "57600/57600 - 43s - loss: 1.5266 - top_k_categorical_accuracy: 0.8428 - val_loss: 1.0423 - val_top_k_categorical_accuracy: 0.9227\n",
            "Epoch 2/5\n",
            "57600/57600 - 43s - loss: 0.8965 - top_k_categorical_accuracy: 0.9380 - val_loss: 0.8121 - val_top_k_categorical_accuracy: 0.9463\n",
            "Epoch 3/5\n",
            "57600/57600 - 43s - loss: 0.7589 - top_k_categorical_accuracy: 0.9491 - val_loss: 0.7366 - val_top_k_categorical_accuracy: 0.9510\n",
            "Epoch 4/5\n",
            "57600/57600 - 43s - loss: 0.6842 - top_k_categorical_accuracy: 0.9538 - val_loss: 0.6970 - val_top_k_categorical_accuracy: 0.9519\n",
            "Epoch 5/5\n",
            "57600/57600 - 43s - loss: 0.6332 - top_k_categorical_accuracy: 0.9576 - val_loss: 0.6575 - val_top_k_categorical_accuracy: 0.9549\n",
            "48000/48000 [==============================] - 17s 345us/sample - loss: 0.6697 - top_k_categorical_accuracy: 0.9529\n",
            "Test accuracy: 95.29%\n"
          ],
          "name": "stdout"
        }
      ]
    },
    {
      "cell_type": "code",
      "metadata": {
        "id": "6CLShvSPP3FK",
        "colab_type": "code",
        "colab": {
          "base_uri": "https://localhost:8080/",
          "height": 1000
        },
        "outputId": "73b33141-2e69-4e45-bf84-1728457f39a8"
      },
      "source": [
        "# confusion matrix creation. \n",
        "from sklearn.metrics import confusion_matrix \n",
        "from sklearn.metrics import accuracy_score \n",
        "from sklearn.metrics import classification_report \n",
        "\n",
        "y_test_predict = model.predict(x_test)\n",
        "y_pred= (y_test_predict>0.5) \n",
        "\n",
        "\n",
        "results = confusion_matrix(np.argmax(y_test,axis=1), np.argmax(y_pred, axis=1)) \n",
        "print ('Confusion Matrix :')\n",
        "print(results) \n",
        "print ('Accuracy Score :',accuracy_score(y_test, y_pred) )\n",
        "print ('Report : ')\n",
        "print (classification_report(y_test, y_pred) )"
      ],
      "execution_count": 14,
      "outputs": [
        {
          "output_type": "stream",
          "text": [
            "Confusion Matrix :\n",
            "[[2286    4    0    1    4    7    5   11    6    2    1    0    0   11\n",
            "     1    4   12    2    0    1]\n",
            " [ 432 1864    2   17   12   22    2    8    3    2    0    4   14   24\n",
            "     2    3   30    6    6    3]\n",
            " [ 476    2 1758    2    1   63    1   44    0    2    3    1    3   32\n",
            "     0    1   38    0    5    9]\n",
            " [ 286    2    1 1960    5   12    2   16    2    1    1   21   54    7\n",
            "     1    1   23    1   19    5]\n",
            " [ 332    3    0    2 1893   34   29   18   27    8    2    4    1    5\n",
            "     2    5    9   12    8    1]\n",
            " [ 794   21  193    5   24 1121    5   23    2   10   19   15    8   31\n",
            "     1    6   60    3    5   14]\n",
            " [ 353    2    1    3   42   10 1894   11    6    4    0    2    2   25\n",
            "     2   10   12   22    6    1]\n",
            " [ 253    2    8    6    3    3    1 2025    3    2    0    2    1   17\n",
            "     0    6   11    2    2    2]\n",
            " [ 462    3    0    1   37    0    3   23 1609    2    0    6    4    7\n",
            "   194   16   11   45    2    0]\n",
            " [  72    1    0    0    2    5    1    4    0 2321    1    4    1    2\n",
            "     0   30   14    0    2    0]\n",
            " [ 247    3    6    1    9   37    8   14    1    4 2012    2    3    8\n",
            "     1    4   28    0   10    1]\n",
            " [ 121    2    3   25    2    4    0    7    0    3    0 2155   15    2\n",
            "     2    0    5    0    6    7]\n",
            " [ 259    2    0   55    2    5    0    4    2    1    1   25 1957    1\n",
            "     2    1   28    1   21    9]\n",
            " [ 276    2    6    2    3    2    7   23    1    1    3    3    1 1880\n",
            "     0    3  139    0    9    4]\n",
            " [ 397    1    1    3    7    1    5   12  182    4    0   10   25    3\n",
            "  1592    8   20   66   12    6]\n",
            " [ 328   10    0    0   13    9    9   35   13   78    1    4    0   24\n",
            "     4 1852   19    4    3    4]\n",
            " [ 335    0    2    7   11   19    4   14    3    2    2    0    4   67\n",
            "     2    3 1913    3    7   13]\n",
            " [ 544    2    0    5   59    2   40   24   46   17    1    7    1    2\n",
            "   100   36    4 1578    6    1]\n",
            " [ 251    0    2   53    3    3    6    8    1    1    3    2   17    8\n",
            "     0    2   42    4 1947    4]\n",
            " [ 700    3   14   58    1   28    2    6    4    0    1  290   67   14\n",
            "     1    2   90    3   38 1099]]\n",
            "Accuracy Score : 0.7605416666666667\n",
            "Report : \n",
            "              precision    recall  f1-score   support\n",
            "\n",
            "           0       0.94      0.88      0.91      2358\n",
            "           1       0.97      0.76      0.85      2456\n",
            "           2       0.88      0.72      0.79      2441\n",
            "           3       0.89      0.81      0.85      2420\n",
            "           4       0.89      0.79      0.84      2395\n",
            "           5       0.81      0.47      0.60      2360\n",
            "           6       0.94      0.79      0.85      2408\n",
            "           7       0.87      0.86      0.87      2349\n",
            "           8       0.84      0.66      0.74      2425\n",
            "           9       0.94      0.94      0.94      2460\n",
            "          10       0.98      0.84      0.90      2399\n",
            "          11       0.84      0.91      0.88      2359\n",
            "          12       0.90      0.82      0.86      2376\n",
            "          13       0.87      0.79      0.83      2365\n",
            "          14       0.83      0.68      0.75      2355\n",
            "          15       0.93      0.77      0.84      2410\n",
            "          16       0.76      0.79      0.78      2411\n",
            "          17       0.90      0.64      0.75      2475\n",
            "          18       0.92      0.83      0.87      2357\n",
            "          19       0.93      0.45      0.61      2421\n",
            "\n",
            "   micro avg       0.89      0.76      0.82     48000\n",
            "   macro avg       0.89      0.76      0.82     48000\n",
            "weighted avg       0.89      0.76      0.81     48000\n",
            " samples avg       0.76      0.76      0.76     48000\n",
            "\n"
          ],
          "name": "stdout"
        },
        {
          "output_type": "stream",
          "text": [
            "/usr/local/lib/python3.6/dist-packages/sklearn/metrics/_classification.py:1272: UndefinedMetricWarning: Precision and F-score are ill-defined and being set to 0.0 in samples with no predicted labels. Use `zero_division` parameter to control this behavior.\n",
            "  _warn_prf(average, modifier, msg_start, len(result))\n"
          ],
          "name": "stderr"
        }
      ]
    },
    {
      "cell_type": "markdown",
      "metadata": {
        "id": "bzSkC0mzPamd",
        "colab_type": "text"
      },
      "source": [
        "4. Preliminary results\n",
        "  \n",
        "  The confusion matrix above shows the performance of the model. Strangely, many items are being mistaken for the aircraft_carrier.It seems to be a little overfit. The accuracy rate of 76% is better than the 5% we'd expect from a machine blindly guessing the item. We can stt from the precision is much higher tha recall. We can conclude that the positives given are very likely to be true positives. But if we look at the recall, we notice an unbalanced outcome for each category of items (such as 19 vs 9). It might be because of the sample size used, and the hyperparameters. I believe based on the preliminary result that the aproach taken is plausible.\n",
        "\n",
        "5. Next steps\n",
        "\n",
        "  The model doe exceed my expectations of around 50 percent accuracy, but to make the Quickdraw Webapp, Fine tuning will be necessary. I will very likely have to fine tune the hyperparameters, potentially change the number convolutional layers and size of filters. \n",
        "\n",
        "  The model is a small, but essential part of the Webapp, I am aiming for around 80-85% accuracy for now. The next step will be find a way to create a canvas, and clean the raw data produced to feed to this model.\n"
      ]
    }
  ]
}